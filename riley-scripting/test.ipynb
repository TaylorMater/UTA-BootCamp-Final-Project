{
 "cells": [
  {
   "cell_type": "markdown",
   "metadata": {},
   "source": [
    "# Set Up Tables in SQLAlchemy ORM"
   ]
  },
  {
   "cell_type": "code",
   "execution_count": 1,
   "metadata": {},
   "outputs": [],
   "source": [
    "# Python SQL toolkit and Object Relational Mapper\n",
    "import sqlalchemy\n",
    "from sqlalchemy.ext.automap import automap_base\n",
    "from sqlalchemy.orm import Session\n",
    "from sqlalchemy import create_engine, func"
   ]
  },
  {
   "cell_type": "code",
   "execution_count": 2,
   "metadata": {},
   "outputs": [],
   "source": [
    "# create engine to database.sqlite\n",
    "engine = create_engine(\"sqlite:///../Resources/database.sqlite\")"
   ]
  },
  {
   "cell_type": "code",
   "execution_count": 3,
   "metadata": {},
   "outputs": [],
   "source": [
    "# reflect an existing database into a new model\n",
    "Base = automap_base()\n",
    "\n",
    "# reflect the tables\n",
    "Base.prepare(autoload_with=engine)"
   ]
  },
  {
   "cell_type": "code",
   "execution_count": 4,
   "metadata": {},
   "outputs": [
    {
     "name": "stdout",
     "output_type": "stream",
     "text": [
      "[]\n"
     ]
    }
   ],
   "source": [
    "# View all of the classes that automap found\n",
    "print(Base.classes.keys())"
   ]
  },
  {
   "cell_type": "markdown",
   "metadata": {},
   "source": []
  },
  {
   "cell_type": "markdown",
   "metadata": {},
   "source": [
    "# Trying Without SQL Alchemy"
   ]
  },
  {
   "cell_type": "code",
   "execution_count": 1,
   "metadata": {},
   "outputs": [],
   "source": [
    "import pandas as pd\n",
    "import sqlite3"
   ]
  },
  {
   "cell_type": "code",
   "execution_count": null,
   "metadata": {},
   "outputs": [],
   "source": []
  },
  {
   "cell_type": "code",
   "execution_count": 2,
   "metadata": {},
   "outputs": [
    {
     "name": "stdout",
     "output_type": "stream",
     "text": [
      "Table: matches\n",
      "tourney_id - TEXT\n",
      "tourney_name - TEXT\n",
      "surface - TEXT\n",
      "draw_size - TEXT\n",
      "tourney_level - TEXT\n",
      "tourney_date - REAL\n",
      "match_num - TEXT\n",
      "winner_id - REAL\n",
      "winner_seed - TEXT\n",
      "winner_entry - TEXT\n",
      "winner_name - TEXT\n",
      "winner_hand - TEXT\n",
      "winner_ht - REAL\n",
      "winner_ioc - TEXT\n",
      "winner_age - REAL\n",
      "loser_id - REAL\n",
      "loser_seed - TEXT\n",
      "loser_entry - TEXT\n",
      "loser_name - TEXT\n",
      "loser_hand - TEXT\n",
      "loser_ht - REAL\n",
      "loser_ioc - TEXT\n",
      "loser_age - REAL\n",
      "score - TEXT\n",
      "best_of - TEXT\n",
      "round - TEXT\n",
      "minutes - REAL\n",
      "w_ace - REAL\n",
      "w_df - REAL\n",
      "w_svpt - REAL\n",
      "w_1stIn - REAL\n",
      "w_1stWon - REAL\n",
      "w_2ndWon - REAL\n",
      "w_SvGms - REAL\n",
      "w_bpSaved - REAL\n",
      "w_bpFaced - REAL\n",
      "l_ace - REAL\n",
      "l_df - REAL\n",
      "l_svpt - REAL\n",
      "l_1stIn - REAL\n",
      "l_1stWon - REAL\n",
      "l_2ndWon - REAL\n",
      "l_SvGms - REAL\n",
      "l_bpSaved - REAL\n",
      "l_bpFaced - REAL\n",
      "winner_rank - REAL\n",
      "winner_rank_points - REAL\n",
      "loser_rank - REAL\n",
      "loser_rank_points - REAL\n",
      "winner1_id - REAL\n",
      "winner2_id - TEXT\n",
      "loser1_id - TEXT\n",
      "loser2_id - REAL\n",
      "winner1_name - TEXT\n",
      "winner1_hand - REAL\n",
      "winner1_ht - TEXT\n",
      "winner1_ioc - REAL\n",
      "winner1_age - TEXT\n",
      "winner2_name - TEXT\n",
      "winner2_hand - REAL\n",
      "winner2_ht - TEXT\n",
      "winner2_ioc - REAL\n",
      "winner2_age - TEXT\n",
      "loser1_name - TEXT\n",
      "loser1_hand - REAL\n",
      "loser1_ht - TEXT\n",
      "loser1_ioc - REAL\n",
      "loser1_age - TEXT\n",
      "loser2_name - TEXT\n",
      "loser2_hand - REAL\n",
      "loser2_ht - TEXT\n",
      "loser2_ioc - REAL\n",
      "loser2_age - REAL\n",
      "winner1_rank - REAL\n",
      "winner1_rank_points - REAL\n",
      "winner2_rank - REAL\n",
      "winner2_rank_points - REAL\n",
      "loser1_rank - REAL\n",
      "loser1_rank_points - REAL\n",
      "loser2_rank - REAL\n",
      "loser2_rank_points - REAL\n",
      "\n",
      "Table: players\n",
      "player_id - INTEGER\n",
      "name_first - TEXT\n",
      "name_last - TEXT\n",
      "hand - TEXT\n",
      "dob - REAL\n",
      "ioc - TEXT\n",
      "height - REAL\n",
      "wikidata_id - TEXT\n",
      "\n",
      "Table: rankings\n",
      "ranking_date - INTEGER\n",
      "rank - INTEGER\n",
      "player - INTEGER\n",
      "points - REAL\n",
      "\n"
     ]
    }
   ],
   "source": [
    "connection = sqlite3.connect(\"../Resources/database.sqlite\")\n",
    "\n",
    "cursor = connection.cursor()\n",
    "\n",
    "cursor.execute(\"SELECT name FROM sqlite_master WHERE type='table';\")\n",
    "\n",
    "tables = cursor.fetchall()\n",
    "for table in tables:\n",
    "    # Extract table name\n",
    "    table_name = table[0]\n",
    "    \n",
    "    # Execute query to fetch column names and details\n",
    "    cursor.execute(f\"PRAGMA table_info({table_name});\")\n",
    "    \n",
    "    # Fetch the results\n",
    "    columns = cursor.fetchall()\n",
    "    \n",
    "    # Print table name\n",
    "    print(f\"Table: {table_name}\")\n",
    "    \n",
    "    # Print column names and details\n",
    "    for column in columns:\n",
    "        print(column[1], \"-\", column[2])\n",
    "\n",
    "    print()  # Add a blank line for readability\n",
    "\n",
    "\n",
    "cursor.close()\n",
    "\n",
    "#have to close the connection\n",
    "connection.close()"
   ]
  },
  {
   "cell_type": "code",
   "execution_count": null,
   "metadata": {},
   "outputs": [],
   "source": []
  }
 ],
 "metadata": {
  "kernelspec": {
   "display_name": "dev",
   "language": "python",
   "name": "python3"
  },
  "language_info": {
   "codemirror_mode": {
    "name": "ipython",
    "version": 3
   },
   "file_extension": ".py",
   "mimetype": "text/x-python",
   "name": "python",
   "nbconvert_exporter": "python",
   "pygments_lexer": "ipython3",
   "version": "3.10.13"
  }
 },
 "nbformat": 4,
 "nbformat_minor": 2
}
